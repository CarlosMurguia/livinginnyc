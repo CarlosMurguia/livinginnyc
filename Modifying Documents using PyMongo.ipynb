{
 "cells": [
  {
   "cell_type": "code",
   "execution_count": 17,
   "metadata": {},
   "outputs": [],
   "source": [
    "# import pymongo\n",
    "# import pandas as pd\n",
    "\n",
    "# conn = 'mongodb://localhost:27017'\n",
    "# client = pymongo.MongoClient(conn)\n",
    "\n",
    "# #Replace this with your dataset\n",
    "# rentFile = pd.read_csv(\"db/NYCrent.csv\")\n",
    "\n",
    "# rentdf = pd.DataFrame(rentFile)\n",
    "\n",
    "# # print(rentFile)"
   ]
  },
  {
   "cell_type": "code",
   "execution_count": null,
   "metadata": {},
   "outputs": [],
   "source": []
  },
  {
   "cell_type": "code",
   "execution_count": 19,
   "metadata": {},
   "outputs": [],
   "source": [
    "# db = client.nyc_neighborhoods\n",
    "\n",
    "# for index, row in rentdf.iterrows():\n",
    "\n",
    "#     neighborhood = row['RegionName']\n",
    "#     medianrent = row['Aug-18']\n",
    "    \n",
    "#     #Replace this with the unique identifier for the document\n",
    "#     rent = db.crime.find({'properties.neighborhood': neighborhood})\n",
    "    \n",
    "#     #This is the loop that will perform the update operations\n",
    "#     for r in rent:\n",
    "#         #print(c['_id'])\n",
    "\n",
    "#         db.crime.update_one(\n",
    "#         {\n",
    "#             #this represents the ID for the document so that you can update that record\n",
    "#           '_id': r['_id']\n",
    "#         },\n",
    "#         {\n",
    "#             #indicate the properties that you want to add or modify here\n",
    "#             #In this example, we are adding a key called 'councilmember' and the value 'Dartanion'\n",
    "#           '$set':\n",
    "#             {\n",
    "#                 'properties.meanRent': medianrent\n",
    "#             }\n",
    "#         }, upsert=False)"
   ]
  },
  {
   "cell_type": "code",
   "execution_count": 10,
   "metadata": {},
   "outputs": [
    {
     "ename": "SyntaxError",
     "evalue": "invalid syntax (<ipython-input-10-260b9e0e0a5c>, line 20)",
     "output_type": "error",
     "traceback": [
      "\u001b[0;36m  File \u001b[0;32m\"<ipython-input-10-260b9e0e0a5c>\"\u001b[0;36m, line \u001b[0;32m20\u001b[0m\n\u001b[0;31m    print \"x =\" + str(x)\u001b[0m\n\u001b[0m              ^\u001b[0m\n\u001b[0;31mSyntaxError\u001b[0m\u001b[0;31m:\u001b[0m invalid syntax\n"
     ]
    }
   ],
   "source": [
    "from pymongo import Connection,GEO2D\n",
    "db=Connection(\"mongodb://localhost:27017\").geo\n",
    "\n",
    "geojson=open(\"nyc_neighborhoods.crime.json\",\"w\")\n",
    "geojson.write('{ \"type\": \"FeatureCollection\",'+\"\\n\")\n",
    "geojson.write('\"features\": ['+\"\\n\")\n",
    "\n",
    "x=0\n",
    "d=db.places.count()\n",
    "\n",
    "for i in db.places.find():\n",
    "    if x < d-1:\n",
    "        geojson.write('{ \"type\": \"Feature\",'+\"\\n\")\n",
    "        geojson.write('\"properties\": {\"popup\": \"value0\"},')\n",
    "        geojson.write(' \"geometry\": {\"type\": \"Point\", \"coordinates\": [')\n",
    "        p1=i[\"loc\"][0]\n",
    "        p2=i[\"loc\"][1]\n",
    "        geojson.write(str(p1)+','+str(p2)+']}},'+\"\\n\")\n",
    "        x=x+1\n",
    "        print \"x =\" + str(x)\n",
    "    else:\n",
    "geojson.write('{ \"type\": \"Feature\",'+\"\\n\")\n",
    "geojson.write('\"properties\": {\"popup\": \"value0\"},')\n",
    "geojson.write(' \"geometry\": {\"type\": \"Point\", \"coordinates\": [')\n",
    "p1=i[\"loc\"][0]\n",
    "p2=i[\"loc\"][1]\n",
    "geojson.write(str(p1)+\",\"+str(p2)+']}}'+\"\\n\")\n",
    "print \"Last Loop\"\n",
    "\n",
    "geojson.write(']}')\n",
    "geojson.close()"
   ]
  },
  {
   "cell_type": "code",
   "execution_count": null,
   "metadata": {},
   "outputs": [],
   "source": []
  }
 ],
 "metadata": {
  "kernelspec": {
   "display_name": "Python 3",
   "language": "python",
   "name": "python3"
  },
  "language_info": {
   "codemirror_mode": {
    "name": "ipython",
    "version": 3
   },
   "file_extension": ".py",
   "mimetype": "text/x-python",
   "name": "python",
   "nbconvert_exporter": "python",
   "pygments_lexer": "ipython3",
   "version": "3.6.5"
  }
 },
 "nbformat": 4,
 "nbformat_minor": 2
}
